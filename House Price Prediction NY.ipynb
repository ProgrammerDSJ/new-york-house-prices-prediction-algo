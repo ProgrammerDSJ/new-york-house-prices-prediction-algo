{
 "cells": [
  {
   "cell_type": "code",
   "execution_count": 1,
   "id": "a34cdec5",
   "metadata": {},
   "outputs": [],
   "source": [
    "import pandas as pd\n",
    "from sklearn import linear_model\n",
    "import matplotlib.pyplot as plt"
   ]
  },
  {
   "cell_type": "code",
   "execution_count": 2,
   "id": "d1c0de71",
   "metadata": {},
   "outputs": [],
   "source": [
    "df = pd.read_csv('Dataset.csv')"
   ]
  },
  {
   "cell_type": "code",
   "execution_count": 3,
   "id": "3eb618f5",
   "metadata": {},
   "outputs": [
    {
     "name": "stdout",
     "output_type": "stream",
     "text": [
      "        price  area  bedrooms  bathrooms  stories mainroad guestroom basement  \\\n",
      "0    13300000  7420         4          2        3      yes        no       no   \n",
      "1    12250000  8960         4          4        4      yes        no       no   \n",
      "2    12250000  9960         3          2        2      yes        no      yes   \n",
      "3    12215000  7500         4          2        2      yes        no      yes   \n",
      "4    11410000  7420         4          1        2      yes       yes      yes   \n",
      "..        ...   ...       ...        ...      ...      ...       ...      ...   \n",
      "540   1820000  3000         2          1        1      yes        no      yes   \n",
      "541   1767150  2400         3          1        1       no        no       no   \n",
      "542   1750000  3620         2          1        1      yes        no       no   \n",
      "543   1750000  2910         3          1        1       no        no       no   \n",
      "544   1750000  3850         3          1        2      yes        no       no   \n",
      "\n",
      "    hotwaterheating airconditioning  parking preffered furnishingstatus  \n",
      "0                no             yes        2       yes        furnished  \n",
      "1                no             yes        3        no        furnished  \n",
      "2                no              no        2       yes   semi-furnished  \n",
      "3                no             yes        3       yes        furnished  \n",
      "4                no             yes        2        no        furnished  \n",
      "..              ...             ...      ...       ...              ...  \n",
      "540              no              no        2        no      unfurnished  \n",
      "541              no              no        0        no   semi-furnished  \n",
      "542              no              no        0        no      unfurnished  \n",
      "543              no              no        0        no        furnished  \n",
      "544              no              no        0        no      unfurnished  \n",
      "\n",
      "[545 rows x 13 columns]\n"
     ]
    }
   ],
   "source": [
    "print(df)"
   ]
  },
  {
   "cell_type": "code",
   "execution_count": 4,
   "id": "8c926cfa",
   "metadata": {},
   "outputs": [],
   "source": [
    "d = {'no':0, 'yes':1}"
   ]
  },
  {
   "cell_type": "code",
   "execution_count": 5,
   "id": "b60766f5",
   "metadata": {},
   "outputs": [],
   "source": [
    "e = {'unfurnished':0, 'semi-furnished':1, 'furnished':2}\n",
    "df['furnishingstatus'] = df['furnishingstatus'].map(e)"
   ]
  },
  {
   "cell_type": "code",
   "execution_count": 6,
   "id": "3100b9e6",
   "metadata": {},
   "outputs": [],
   "source": [
    "df['preffered'] = df['preffered'].map(d)"
   ]
  },
  {
   "cell_type": "code",
   "execution_count": 7,
   "id": "6aae8b42",
   "metadata": {},
   "outputs": [],
   "source": [
    "df['airconditioning'] = df['airconditioning'].map(d)"
   ]
  },
  {
   "cell_type": "code",
   "execution_count": 8,
   "id": "78f9cff2",
   "metadata": {},
   "outputs": [],
   "source": [
    "df['mainroad'] = df['mainroad'].map(d)"
   ]
  },
  {
   "cell_type": "code",
   "execution_count": 9,
   "id": "97624009",
   "metadata": {},
   "outputs": [],
   "source": [
    "df['basement'] = df['basement'].map(d)"
   ]
  },
  {
   "cell_type": "code",
   "execution_count": 10,
   "id": "712b1312",
   "metadata": {},
   "outputs": [],
   "source": [
    "df['hotwaterheating'] = df['hotwaterheating'].map(d)"
   ]
  },
  {
   "cell_type": "code",
   "execution_count": 11,
   "id": "37ebbafd",
   "metadata": {},
   "outputs": [],
   "source": [
    "df['guestroom'] = df['guestroom'].map(d)"
   ]
  },
  {
   "cell_type": "code",
   "execution_count": 12,
   "id": "6bad4e83",
   "metadata": {},
   "outputs": [
    {
     "name": "stdout",
     "output_type": "stream",
     "text": [
      "        price  area  bedrooms  bathrooms  stories  mainroad  guestroom  \\\n",
      "0    13300000  7420         4          2        3         1          0   \n",
      "1    12250000  8960         4          4        4         1          0   \n",
      "2    12250000  9960         3          2        2         1          0   \n",
      "3    12215000  7500         4          2        2         1          0   \n",
      "4    11410000  7420         4          1        2         1          1   \n",
      "..        ...   ...       ...        ...      ...       ...        ...   \n",
      "540   1820000  3000         2          1        1         1          0   \n",
      "541   1767150  2400         3          1        1         0          0   \n",
      "542   1750000  3620         2          1        1         1          0   \n",
      "543   1750000  2910         3          1        1         0          0   \n",
      "544   1750000  3850         3          1        2         1          0   \n",
      "\n",
      "     basement  hotwaterheating  airconditioning  parking  preffered  \\\n",
      "0           0                0                1        2          1   \n",
      "1           0                0                1        3          0   \n",
      "2           1                0                0        2          1   \n",
      "3           1                0                1        3          1   \n",
      "4           1                0                1        2          0   \n",
      "..        ...              ...              ...      ...        ...   \n",
      "540         1                0                0        2          0   \n",
      "541         0                0                0        0          0   \n",
      "542         0                0                0        0          0   \n",
      "543         0                0                0        0          0   \n",
      "544         0                0                0        0          0   \n",
      "\n",
      "     furnishingstatus  \n",
      "0                   2  \n",
      "1                   2  \n",
      "2                   1  \n",
      "3                   2  \n",
      "4                   2  \n",
      "..                ...  \n",
      "540                 0  \n",
      "541                 1  \n",
      "542                 0  \n",
      "543                 2  \n",
      "544                 0  \n",
      "\n",
      "[545 rows x 13 columns]\n"
     ]
    }
   ],
   "source": [
    "print(df)"
   ]
  },
  {
   "cell_type": "code",
   "execution_count": 13,
   "id": "02f9ee88",
   "metadata": {},
   "outputs": [],
   "source": [
    "def ScaledData(area):\n",
    "    for i in df['area']:\n",
    "        ScaledArea = area / 1000\n",
    "        \n",
    "    return ScaledArea"
   ]
  },
  {
   "cell_type": "code",
   "execution_count": 14,
   "id": "81a0b229",
   "metadata": {},
   "outputs": [],
   "source": [
    "newarea = ScaledData(df['area'])"
   ]
  },
  {
   "cell_type": "code",
   "execution_count": 15,
   "id": "a7e05f96",
   "metadata": {},
   "outputs": [
    {
     "name": "stdout",
     "output_type": "stream",
     "text": [
      "0      7.42\n",
      "1      8.96\n",
      "2      9.96\n",
      "3      7.50\n",
      "4      7.42\n",
      "       ... \n",
      "540    3.00\n",
      "541    2.40\n",
      "542    3.62\n",
      "543    2.91\n",
      "544    3.85\n",
      "Name: area, Length: 545, dtype: float64\n"
     ]
    }
   ],
   "source": [
    "print(newarea)"
   ]
  },
  {
   "cell_type": "code",
   "execution_count": 16,
   "id": "c7839cef",
   "metadata": {},
   "outputs": [],
   "source": [
    "df['area'] = newarea"
   ]
  },
  {
   "cell_type": "code",
   "execution_count": 17,
   "id": "50ebc672",
   "metadata": {},
   "outputs": [
    {
     "name": "stdout",
     "output_type": "stream",
     "text": [
      "        price  area  bedrooms  bathrooms  stories  mainroad  guestroom  \\\n",
      "0    13300000  7.42         4          2        3         1          0   \n",
      "1    12250000  8.96         4          4        4         1          0   \n",
      "2    12250000  9.96         3          2        2         1          0   \n",
      "3    12215000  7.50         4          2        2         1          0   \n",
      "4    11410000  7.42         4          1        2         1          1   \n",
      "..        ...   ...       ...        ...      ...       ...        ...   \n",
      "540   1820000  3.00         2          1        1         1          0   \n",
      "541   1767150  2.40         3          1        1         0          0   \n",
      "542   1750000  3.62         2          1        1         1          0   \n",
      "543   1750000  2.91         3          1        1         0          0   \n",
      "544   1750000  3.85         3          1        2         1          0   \n",
      "\n",
      "     basement  hotwaterheating  airconditioning  parking  preffered  \\\n",
      "0           0                0                1        2          1   \n",
      "1           0                0                1        3          0   \n",
      "2           1                0                0        2          1   \n",
      "3           1                0                1        3          1   \n",
      "4           1                0                1        2          0   \n",
      "..        ...              ...              ...      ...        ...   \n",
      "540         1                0                0        2          0   \n",
      "541         0                0                0        0          0   \n",
      "542         0                0                0        0          0   \n",
      "543         0                0                0        0          0   \n",
      "544         0                0                0        0          0   \n",
      "\n",
      "     furnishingstatus  \n",
      "0                   2  \n",
      "1                   2  \n",
      "2                   1  \n",
      "3                   2  \n",
      "4                   2  \n",
      "..                ...  \n",
      "540                 0  \n",
      "541                 1  \n",
      "542                 0  \n",
      "543                 2  \n",
      "544                 0  \n",
      "\n",
      "[545 rows x 13 columns]\n"
     ]
    }
   ],
   "source": [
    "print(df)"
   ]
  },
  {
   "cell_type": "code",
   "execution_count": 18,
   "id": "09acc3ec",
   "metadata": {},
   "outputs": [],
   "source": [
    "X = df[['area', 'bedrooms', 'bathrooms', 'stories', 'mainroad', 'guestroom', 'basement', 'hotwaterheating', 'airconditioning', 'parking', 'preffered', 'furnishingstatus']]\n",
    "y = df['price']"
   ]
  },
  {
   "cell_type": "code",
   "execution_count": 19,
   "id": "d12fff0d",
   "metadata": {},
   "outputs": [
    {
     "data": {
      "text/html": [
       "<style>#sk-container-id-1 {color: black;}#sk-container-id-1 pre{padding: 0;}#sk-container-id-1 div.sk-toggleable {background-color: white;}#sk-container-id-1 label.sk-toggleable__label {cursor: pointer;display: block;width: 100%;margin-bottom: 0;padding: 0.3em;box-sizing: border-box;text-align: center;}#sk-container-id-1 label.sk-toggleable__label-arrow:before {content: \"▸\";float: left;margin-right: 0.25em;color: #696969;}#sk-container-id-1 label.sk-toggleable__label-arrow:hover:before {color: black;}#sk-container-id-1 div.sk-estimator:hover label.sk-toggleable__label-arrow:before {color: black;}#sk-container-id-1 div.sk-toggleable__content {max-height: 0;max-width: 0;overflow: hidden;text-align: left;background-color: #f0f8ff;}#sk-container-id-1 div.sk-toggleable__content pre {margin: 0.2em;color: black;border-radius: 0.25em;background-color: #f0f8ff;}#sk-container-id-1 input.sk-toggleable__control:checked~div.sk-toggleable__content {max-height: 200px;max-width: 100%;overflow: auto;}#sk-container-id-1 input.sk-toggleable__control:checked~label.sk-toggleable__label-arrow:before {content: \"▾\";}#sk-container-id-1 div.sk-estimator input.sk-toggleable__control:checked~label.sk-toggleable__label {background-color: #d4ebff;}#sk-container-id-1 div.sk-label input.sk-toggleable__control:checked~label.sk-toggleable__label {background-color: #d4ebff;}#sk-container-id-1 input.sk-hidden--visually {border: 0;clip: rect(1px 1px 1px 1px);clip: rect(1px, 1px, 1px, 1px);height: 1px;margin: -1px;overflow: hidden;padding: 0;position: absolute;width: 1px;}#sk-container-id-1 div.sk-estimator {font-family: monospace;background-color: #f0f8ff;border: 1px dotted black;border-radius: 0.25em;box-sizing: border-box;margin-bottom: 0.5em;}#sk-container-id-1 div.sk-estimator:hover {background-color: #d4ebff;}#sk-container-id-1 div.sk-parallel-item::after {content: \"\";width: 100%;border-bottom: 1px solid gray;flex-grow: 1;}#sk-container-id-1 div.sk-label:hover label.sk-toggleable__label {background-color: #d4ebff;}#sk-container-id-1 div.sk-serial::before {content: \"\";position: absolute;border-left: 1px solid gray;box-sizing: border-box;top: 0;bottom: 0;left: 50%;z-index: 0;}#sk-container-id-1 div.sk-serial {display: flex;flex-direction: column;align-items: center;background-color: white;padding-right: 0.2em;padding-left: 0.2em;position: relative;}#sk-container-id-1 div.sk-item {position: relative;z-index: 1;}#sk-container-id-1 div.sk-parallel {display: flex;align-items: stretch;justify-content: center;background-color: white;position: relative;}#sk-container-id-1 div.sk-item::before, #sk-container-id-1 div.sk-parallel-item::before {content: \"\";position: absolute;border-left: 1px solid gray;box-sizing: border-box;top: 0;bottom: 0;left: 50%;z-index: -1;}#sk-container-id-1 div.sk-parallel-item {display: flex;flex-direction: column;z-index: 1;position: relative;background-color: white;}#sk-container-id-1 div.sk-parallel-item:first-child::after {align-self: flex-end;width: 50%;}#sk-container-id-1 div.sk-parallel-item:last-child::after {align-self: flex-start;width: 50%;}#sk-container-id-1 div.sk-parallel-item:only-child::after {width: 0;}#sk-container-id-1 div.sk-dashed-wrapped {border: 1px dashed gray;margin: 0 0.4em 0.5em 0.4em;box-sizing: border-box;padding-bottom: 0.4em;background-color: white;}#sk-container-id-1 div.sk-label label {font-family: monospace;font-weight: bold;display: inline-block;line-height: 1.2em;}#sk-container-id-1 div.sk-label-container {text-align: center;}#sk-container-id-1 div.sk-container {/* jupyter's `normalize.less` sets `[hidden] { display: none; }` but bootstrap.min.css set `[hidden] { display: none !important; }` so we also need the `!important` here to be able to override the default hidden behavior on the sphinx rendered scikit-learn.org. See: https://github.com/scikit-learn/scikit-learn/issues/21755 */display: inline-block !important;position: relative;}#sk-container-id-1 div.sk-text-repr-fallback {display: none;}</style><div id=\"sk-container-id-1\" class=\"sk-top-container\"><div class=\"sk-text-repr-fallback\"><pre>LinearRegression()</pre><b>In a Jupyter environment, please rerun this cell to show the HTML representation or trust the notebook. <br />On GitHub, the HTML representation is unable to render, please try loading this page with nbviewer.org.</b></div><div class=\"sk-container\" hidden><div class=\"sk-item\"><div class=\"sk-estimator sk-toggleable\"><input class=\"sk-toggleable__control sk-hidden--visually\" id=\"sk-estimator-id-1\" type=\"checkbox\" checked><label for=\"sk-estimator-id-1\" class=\"sk-toggleable__label sk-toggleable__label-arrow\">LinearRegression</label><div class=\"sk-toggleable__content\"><pre>LinearRegression()</pre></div></div></div></div></div>"
      ],
      "text/plain": [
       "LinearRegression()"
      ]
     },
     "execution_count": 19,
     "metadata": {},
     "output_type": "execute_result"
    }
   ],
   "source": [
    "regr = linear_model.LinearRegression()\n",
    "regr.fit(X.values, y.values)"
   ]
  },
  {
   "cell_type": "code",
   "execution_count": 20,
   "id": "2a54945e",
   "metadata": {},
   "outputs": [],
   "source": [
    "def Prediction(area, bedrooms, bathrooms, stories, mainroad, guestroom, basement, hotwaterheating, airconditioning, parking, preffered, furnishingstatus):\n",
    "    predictedPrice = regr.predict([[area, bedrooms, bathrooms, stories, mainroad, guestroom, basement, hotwaterheating, airconditioning, parking, preffered, furnishingstatus]])\n",
    "    return predictedPrice"
   ]
  },
  {
   "cell_type": "code",
   "execution_count": 25,
   "id": "6218faaf",
   "metadata": {},
   "outputs": [
    {
     "name": "stdout",
     "output_type": "stream",
     "text": [
      "Enter the area in 1000 sq. ft: 1\n",
      "Enter the number of bedrooms required: 2\n",
      "Enter the number of bathrooms required: 2\n",
      "Enter the number of storeys you want: 2\n",
      "Do you want the house to be at mainroad /(0 for no and 1 for yes)/: 1\n",
      "Do you want the house to have a guestroom? /(0 for no and 1 for yes)/: 1\n",
      "Do you want the house to have a basement? /(0 for no and 1 for yes)/: 1\n",
      "Do you want the house to have hot water heating systems? /(0 for no and 1 for yes)/: 1\n",
      "Do you want the house to be air conditioned? /(0 for no and 1 for yes)/: 1\n",
      "Enter the number of vehicles you need parking for: 4\n",
      "Do you want the house to be preferred by our experts? /(0 for no and 1 for yes)/: 1\n",
      "Do you want the house to be furnished or semi-furnished or unfurnished? /(0 for unfurnished, 1 for semi-furnished and 2 for furnished)/ : 2\n",
      "The estimated price of the house you're looking for is: [8035107.16132616]\n"
     ]
    }
   ],
   "source": [
    "area = float(input(\"Enter the area in 1000 sq. ft: \"))\n",
    "bedrooms = float(input(\"Enter the number of bedrooms required: \"))\n",
    "bathrooms = int(input(\"Enter the number of bathrooms required: \"))\n",
    "stories = float(input(\"Enter the number of storeys you want: \"))\n",
    "mainroad = int(input(\"Do you want the house to be at mainroad /(0 for no and 1 for yes)/: \"))\n",
    "guestroom = int(input(\"Do you want the house to have a guestroom? /(0 for no and 1 for yes)/: \"))\n",
    "basement = int(input(\"Do you want the house to have a basement? /(0 for no and 1 for yes)/: \"))\n",
    "hotwaterheating = int(input(\"Do you want the house to have hot water heating systems? /(0 for no and 1 for yes)/: \"))\n",
    "airconditioning = int(input(\"Do you want the house to be air conditioned? /(0 for no and 1 for yes)/: \"))\n",
    "parking = int(input(\"Enter the number of vehicles you need parking for: \"))\n",
    "preffered = int(input(\"Do you want the house to be preferred by our experts? /(0 for no and 1 for yes)/: \"))\n",
    "furnishingstatus = int(input(\"Do you want the house to be furnished or semi-furnished or unfurnished? /(0 for unfurnished, 1 for semi-furnished and 2 for furnished)/ : \"))\n",
    "\n",
    "Prediction(area, bedrooms, bathrooms, stories, mainroad, guestroom, basement, hotwaterheating, airconditioning, parking, preffered, furnishingstatus)\n",
    "\n",
    "print(\"The estimated price of the house you're looking for is: \" + str(Prediction(area, bedrooms, bathrooms, stories, mainroad, guestroom, basement, hotwaterheating, airconditioning, parking, preffered, furnishingstatus)))"
   ]
  },
  {
   "cell_type": "code",
   "execution_count": null,
   "id": "951e6552",
   "metadata": {},
   "outputs": [],
   "source": []
  }
 ],
 "metadata": {
  "kernelspec": {
   "display_name": "Python 3 (ipykernel)",
   "language": "python",
   "name": "python3"
  },
  "language_info": {
   "codemirror_mode": {
    "name": "ipython",
    "version": 3
   },
   "file_extension": ".py",
   "mimetype": "text/x-python",
   "name": "python",
   "nbconvert_exporter": "python",
   "pygments_lexer": "ipython3",
   "version": "3.11.5"
  }
 },
 "nbformat": 4,
 "nbformat_minor": 5
}
